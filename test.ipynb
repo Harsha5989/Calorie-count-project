{
 "cells": [
  {
   "cell_type": "code",
   "execution_count": 1,
   "metadata": {},
   "outputs": [],
   "source": [
    "import pandas as pd\n",
    "from sklearn.model_selection import train_test_split\n",
    "from sklearn.ensemble import RandomForestClassifier\n",
    "from sklearn.model_selection import cross_val_score\n",
    "import matplotlib.pyplot as plt\n",
    "from sklearn.metrics import confusion_matrix\n",
    "import seaborn as sbn\n",
    "import numpy as np\n",
    "import pickle\n",
    "from pymongo import MongoClient"
   ]
  },
  {
   "cell_type": "code",
   "execution_count": 5,
   "metadata": {},
   "outputs": [
    {
     "name": "stdout",
     "output_type": "stream",
     "text": [
      "{'_id': ObjectId('671fc07928d59acfbd9cc85c'), 'userId': '2331', 'Gender': '1', 'Age': '24', 'Height': '180', 'Weight': '69', 'Duration': '60', 'Heart_Rate': '130', 'Body_Temp': '29'}\n",
      "[23.]\n"
     ]
    }
   ],
   "source": [
    "client = MongoClient('mongodb://localhost:27017/')\n",
    "def get_data(client):\n",
    "# Connect to MongoDB\n",
    "  db = client['Harsha_db']\n",
    "  collection = db['Data']\n",
    "# Retrieve all documents from the collection\n",
    "  #documents = collection.find({'userId':\"2331\"})\n",
    "  data = collection.find_one()\n",
    "  return data if data else \"no data found\"\n",
    "file=get_data(client)\n",
    "# file.pop('_id')\n",
    "print(file)\n",
    "def calc(doc):\n",
    "  df=pd.DataFrame(doc,index=[1])\n",
    "  df=df.drop(['_id','userId'],axis=1)\n",
    "  with open(\"C://Users//dimaag//Documents//Python Class//ML//Caloriecount//ML_code//caloriecount_model\",'rb') as f:\n",
    "    model=pickle.load(f)\n",
    "  res=model.predict(df)\n",
    "  return res\n",
    "cal =calc(file)\n",
    "print(cal)\n",
    "client.close()"
   ]
  },
  {
   "cell_type": "code",
   "execution_count": null,
   "metadata": {},
   "outputs": [],
   "source": []
  }
 ],
 "metadata": {
  "kernelspec": {
   "display_name": "Projects",
   "language": "python",
   "name": "python3"
  },
  "language_info": {
   "codemirror_mode": {
    "name": "ipython",
    "version": 3
   },
   "file_extension": ".py",
   "mimetype": "text/x-python",
   "name": "python",
   "nbconvert_exporter": "python",
   "pygments_lexer": "ipython3",
   "version": "3.12.4"
  }
 },
 "nbformat": 4,
 "nbformat_minor": 2
}
